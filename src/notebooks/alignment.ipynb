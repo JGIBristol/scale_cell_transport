{
 "cells": [
  {
   "cell_type": "code",
   "execution_count": null,
   "id": "aa9b9c9f",
   "metadata": {},
   "outputs": [],
   "source": [
    "%load_ext autoreload\n",
    "%autoreload 2"
   ]
  },
  {
   "cell_type": "code",
   "execution_count": null,
   "id": "357185e7",
   "metadata": {},
   "outputs": [],
   "source": [
    "\"\"\"\n",
    "Read in the videos and play them\n",
    "\"\"\"\n",
    "\n",
    "from scale_cell_transport import files\n",
    "\n",
    "video_dir = files.incucyte_video_dir_1()\n",
    "video_dir.is_dir()"
   ]
  },
  {
   "cell_type": "code",
   "execution_count": null,
   "id": "f6e4c9ab",
   "metadata": {},
   "outputs": [],
   "source": []
  }
 ],
 "metadata": {
  "kernelspec": {
   "display_name": ".venv",
   "language": "python",
   "name": "python3"
  },
  "language_info": {
   "codemirror_mode": {
    "name": "ipython",
    "version": 3
   },
   "file_extension": ".py",
   "mimetype": "text/x-python",
   "name": "python",
   "nbconvert_exporter": "python",
   "pygments_lexer": "ipython3",
   "version": "3.10.16"
  }
 },
 "nbformat": 4,
 "nbformat_minor": 5
}
