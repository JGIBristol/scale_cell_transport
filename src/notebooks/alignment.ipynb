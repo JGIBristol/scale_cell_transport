{
 "cells": [
  {
   "cell_type": "code",
   "execution_count": null,
   "id": "aa9b9c9f",
   "metadata": {},
   "outputs": [],
   "source": [
    "%load_ext autoreload\n",
    "%autoreload 2"
   ]
  },
  {
   "cell_type": "code",
   "execution_count": null,
   "id": "d8413820",
   "metadata": {},
   "outputs": [],
   "source": [
    "from scale_cell_transport import read\n",
    "read.phase_videos()"
   ]
  },
  {
   "cell_type": "code",
   "execution_count": null,
   "id": "357185e7",
   "metadata": {},
   "outputs": [],
   "source": [
    "\"\"\"\n",
    "Read in the videos\n",
    "\"\"\"\n",
    "\n",
    "from scale_cell_transport import files\n",
    "\n",
    "video_dir = files.incucyte_video_dir_1()\n",
    "\n",
    "paths = list(video_dir.glob(\"*.mp4\"))"
   ]
  },
  {
   "cell_type": "code",
   "execution_count": null,
   "id": "f6e4c9ab",
   "metadata": {},
   "outputs": [],
   "source": [
    "import cv2\n",
    "import numpy as np\n",
    "from tqdm import tqdm\n",
    "\n",
    "arrays = []\n",
    "for path in tqdm(paths):\n",
    "    cap = cv2.VideoCapture(str(path))\n",
    "    n_frames = int(cap.get(cv2.CAP_PROP_FRAME_COUNT))\n",
    "\n",
    "    width = int(cap.get(cv2.CAP_PROP_FRAME_WIDTH))\n",
    "    height = int(cap.get(cv2.CAP_PROP_FRAME_HEIGHT))\n",
    "\n",
    "    buffer = np.empty((n_frames, height, width, 3), dtype=np.uint8)\n",
    "\n",
    "    fc = 0\n",
    "    ret = True\n",
    "\n",
    "    while fc < n_frames and ret:\n",
    "        ret, buffer[fc] = cap.read()\n",
    "        fc += 1\n",
    "\n",
    "    # Convert BGR to RGB\n",
    "    arrays.append(buffer[:, :, :, ::-1])\n",
    "    cap.release()"
   ]
  },
  {
   "cell_type": "code",
   "execution_count": null,
   "id": "62fb94c6",
   "metadata": {},
   "outputs": [],
   "source": [
    "\"\"\"\n",
    "Some of the videos are broken, so let's remove them from the list of videos and also the list of paths\n",
    "\"\"\"\n",
    "\n",
    "for i, (path, video) in enumerate(zip(paths, arrays)):\n",
    "    if video.shape[:3] == (0, 0, 0):\n",
    "        print(f\"Removing {path}\")\n",
    "        paths.remove(path)\n",
    "        arrays.pop(i)"
   ]
  },
  {
   "cell_type": "code",
   "execution_count": null,
   "id": "23de5905",
   "metadata": {},
   "outputs": [],
   "source": [
    "\"\"\"Display two frames from each video\"\"\"\n",
    "\n",
    "import matplotlib.pyplot as plt\n",
    "\n",
    "before_frame_idx, after_frame_idx = 0, 0\n",
    "\n",
    "before_images = [video[before_frame_idx] for video in arrays]\n",
    "after_images = [video[after_frame_idx] for video in arrays]\n",
    "\n",
    "plot_kw = {\"cmap\": \"gray\", \"interpolation\": \"nearest\"}\n",
    "for before, after, path in zip(before_images, after_images, paths):\n",
    "    fig, axes = plt.subplots(1, 2, figsize=(4, 2))\n",
    "    fig.subplots_adjust(wspace=0.1)\n",
    "\n",
    "    axes[0].imshow(before, **plot_kw)\n",
    "    axes[1].imshow(after, **plot_kw)\n",
    "\n",
    "    fig.suptitle(path.name)\n",
    "    for i in range(2):\n",
    "        axes[i].axis(\"off\")"
   ]
  },
  {
   "cell_type": "code",
   "execution_count": null,
   "id": "1703c305",
   "metadata": {},
   "outputs": [],
   "source": [
    "# Convert to grayscale\n",
    "# before_images = [\n",
    "#     cv2.cvtColor(video[before_frame_idx], cv2.COLOR_RGB2GRAY) for video in arrays\n",
    "# ]\n",
    "# after_images = [\n",
    "#     cv2.cvtColor(video[after_frame_idx], cv2.COLOR_RGB2GRAY) for video in arrays\n",
    "# ]\n",
    "before_images = [\n",
    "    np.mean(video[before_frame_idx][:, :, (0, 2)], axis=-1) for video in arrays\n",
    "]\n",
    "after_images = [\n",
    "    np.mean(video[after_frame_idx][:, :, (0, 2)], axis=-1) for video in arrays\n",
    "]"
   ]
  },
  {
   "cell_type": "code",
   "execution_count": null,
   "id": "aa125c7e",
   "metadata": {},
   "outputs": [],
   "source": [
    "plot_kw = {\"cmap\": \"gray\", \"interpolation\": \"nearest\"}\n",
    "for before, after in zip(before_images, after_images):\n",
    "    fig, axes = plt.subplots(1, 2, figsize=(4, 2))\n",
    "    fig.subplots_adjust(wspace=0.1)\n",
    "    axes[0].imshow(before, **plot_kw)\n",
    "    axes[1].imshow(after, **plot_kw)\n",
    "    for i in range(2):\n",
    "        axes[i].axis(\"off\")"
   ]
  },
  {
   "cell_type": "code",
   "execution_count": null,
   "id": "3a3f1852",
   "metadata": {},
   "outputs": [],
   "source": [
    "\"\"\"\n",
    "Get the test data in the right format\n",
    "\n",
    "This should be a torch tensor of shape (n_imgs, 1, height, width) for both the target and the source images\n",
    "\n",
    "\"\"\"\n",
    "\n",
    "import torch\n",
    "\n",
    "target_images = torch.stack([torch.tensor(x, dtype=torch.float32) for x in before_images]).unsqueeze(1)\n",
    "template_images = torch.stack([torch.tensor(x, dtype=torch.float32) for x in after_images]).unsqueeze(1)\n",
    "\n",
    "data_dict = {\"Template_image\": template_images, \"Target_image\": target_images}"
   ]
  },
  {
   "cell_type": "code",
   "execution_count": null,
   "id": "4a12a948",
   "metadata": {},
   "outputs": [],
   "source": [
    "\"\"\"\n",
    "Load the rotir model and weights\n",
    "\"\"\"\n",
    "\n",
    "from rotir.model import ImageRegistration\n",
    "import torch\n",
    "\n",
    "model_file = torch.load(files.model_path())\n",
    "\n",
    "model = ImageRegistration(model_file[\"Parameter\"][\"model\"])\n",
    "model.load_state_dict(model_file[\"Model_state\"])"
   ]
  },
  {
   "cell_type": "code",
   "execution_count": null,
   "id": "0c775d4a",
   "metadata": {},
   "outputs": [],
   "source": [
    "\"\"\"\n",
    "Run the model on the test data\n",
    "\"\"\"\n",
    "\n",
    "from rotir.utils import affine_transform, matrix_calculation_function\n",
    "\n",
    "model.eval()\n",
    "with torch.no_grad():\n",
    "    output = model(data_dict)\n",
    "\n",
    "score_thr = []\n",
    "for op in output[\"score_map\"][:, :-1, :-1]:\n",
    "    t = torch.minimum(op.flatten().sort()[0][-3], torch.tensor(0.4))\n",
    "    score_thr.append(t)\n",
    "\n",
    "score_thr = torch.Tensor(score_thr).view(-1, 1, 1)\n",
    "\n",
    "affine_matirx, matches, num = matrix_calculation_function(\n",
    "    output,\n",
    "    \"Auto\",\n",
    "    score_thr,\n",
    "    not model_file[\"Parameter\"][\"model\"][\"Apply_scale\"],\n",
    "    True,\n",
    "    coordinate=True,\n",
    ")\n",
    "matches = matches.mul(32).add(16)\n",
    "\n",
    "out_total_image = affine_transform(data_dict[\"Template_image\"], affine_matirx)"
   ]
  },
  {
   "cell_type": "code",
   "execution_count": null,
   "id": "2476b86d",
   "metadata": {},
   "outputs": [],
   "source": [
    "from rotir.plotting import plot_matches\n",
    "\n",
    "for i in range(len(data_dict[\"Template_image\"])):\n",
    "    plot_matches(\n",
    "        data_dict[\"Template_image\"][i],\n",
    "        data_dict[\"Target_image\"][i],\n",
    "        matches[i][: num[i]],\n",
    "        lines=True,\n",
    "    )"
   ]
  }
 ],
 "metadata": {
  "kernelspec": {
   "display_name": ".venv",
   "language": "python",
   "name": "python3"
  },
  "language_info": {
   "codemirror_mode": {
    "name": "ipython",
    "version": 3
   },
   "file_extension": ".py",
   "mimetype": "text/x-python",
   "name": "python",
   "nbconvert_exporter": "python",
   "pygments_lexer": "ipython3",
   "version": "3.9.21"
  }
 },
 "nbformat": 4,
 "nbformat_minor": 5
}
