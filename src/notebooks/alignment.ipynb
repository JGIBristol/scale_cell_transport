{
 "cells": [
  {
   "cell_type": "code",
   "execution_count": null,
   "id": "aa9b9c9f",
   "metadata": {},
   "outputs": [],
   "source": [
    "%load_ext autoreload\n",
    "%autoreload 2"
   ]
  },
  {
   "cell_type": "code",
   "execution_count": null,
   "id": "357185e7",
   "metadata": {},
   "outputs": [],
   "source": [
    "\"\"\"\n",
    "Read in the videos and play them\n",
    "\"\"\"\n",
    "\n",
    "from scale_cell_transport import files\n",
    "\n",
    "video_dir = files.incucyte_video_dir_1()\n",
    "\n",
    "paths = list(video_dir.glob(\"*.mp4\"))"
   ]
  },
  {
   "cell_type": "code",
   "execution_count": null,
   "id": "f6e4c9ab",
   "metadata": {},
   "outputs": [],
   "source": [
    "import cv2\n",
    "import numpy as np\n",
    "from tqdm import tqdm\n",
    "\n",
    "arrays = []\n",
    "for path in tqdm(paths):\n",
    "    cap = cv2.VideoCapture(str(path))\n",
    "    n_frames = int(cap.get(cv2.CAP_PROP_FRAME_COUNT))\n",
    "\n",
    "    width = int(cap.get(cv2.CAP_PROP_FRAME_WIDTH))\n",
    "    height = int(cap.get(cv2.CAP_PROP_FRAME_HEIGHT))\n",
    "\n",
    "    buffer = np.empty((n_frames, height, width, 3), dtype=np.uint8)\n",
    "\n",
    "    fc = 0\n",
    "    ret = True\n",
    "\n",
    "    while fc < n_frames and ret:\n",
    "        ret, buffer[fc] = cap.read()\n",
    "        fc += 1\n",
    "\n",
    "    # Convert BGR to RGB\n",
    "    arrays.append(buffer[:, :, :, ::-1])\n",
    "    cap.release()"
   ]
  },
  {
   "cell_type": "code",
   "execution_count": null,
   "id": "62fb94c6",
   "metadata": {},
   "outputs": [],
   "source": [
    "\"\"\"\n",
    "Some of the videos are broken, so let's remove them from the list of videos and also the list of paths\n",
    "\"\"\"\n",
    "\n",
    "for i, (path, video) in enumerate(zip(paths, arrays)):\n",
    "    if video.shape[:3] == (0, 0, 0):\n",
    "        print(f\"Removing {path}\")\n",
    "        paths.remove(path)\n",
    "        arrays.pop(i)"
   ]
  },
  {
   "cell_type": "code",
   "execution_count": null,
   "id": "23de5905",
   "metadata": {},
   "outputs": [],
   "source": [
    "\"\"\"Display the first and second frame of each video\"\"\"\n",
    "\n",
    "import matplotlib.pyplot as plt\n",
    "\n",
    "fig, axes = plt.subplots(len(arrays), 2, figsize=(5, 20))\n",
    "\n",
    "for axs, video in zip(axes, arrays):\n",
    "    for i in range(2):\n",
    "        axs[i].axis(\"off\")\n",
    "        axs[i].imshow(video[i + 24])"
   ]
  },
  {
   "cell_type": "code",
   "execution_count": null,
   "id": "4a12a948",
   "metadata": {},
   "outputs": [],
   "source": [
    "\"\"\"\n",
    "Load the rotir model and weights\n",
    "\"\"\"\n",
    "import torch\n",
    "from rotir.model import ImageRegistration\n",
    "\n",
    "model_file = torch.load(files.model_path())\n",
    "\n",
    "model = ImageRegistration(model_file[\"Parameter\"][\"model\"])"
   ]
  }
 ],
 "metadata": {
  "kernelspec": {
   "display_name": ".venv",
   "language": "python",
   "name": "python3"
  },
  "language_info": {
   "codemirror_mode": {
    "name": "ipython",
    "version": 3
   },
   "file_extension": ".py",
   "mimetype": "text/x-python",
   "name": "python",
   "nbconvert_exporter": "python",
   "pygments_lexer": "ipython3",
   "version": "3.10.16"
  }
 },
 "nbformat": 4,
 "nbformat_minor": 5
}
