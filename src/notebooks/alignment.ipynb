{
 "cells": [
  {
   "cell_type": "code",
   "execution_count": null,
   "id": "aa9b9c9f",
   "metadata": {},
   "outputs": [],
   "source": [
    "%load_ext autoreload\n",
    "%autoreload 2"
   ]
  },
  {
   "cell_type": "code",
   "execution_count": null,
   "id": "d8413820",
   "metadata": {},
   "outputs": [],
   "source": [
    "\"\"\"\n",
    "Read in the phase contrast videos\n",
    "\"\"\"\n",
    "\n",
    "import numpy as np\n",
    "from scale_cell_transport import read\n",
    "\n",
    "video_data: dict[str, tuple[np.ndarray, list[str]]] = read.phase_videos()"
   ]
  },
  {
   "cell_type": "code",
   "execution_count": null,
   "id": "e7b9a4b3",
   "metadata": {},
   "outputs": [],
   "source": [
    "\"\"\"\n",
    "Normalise contrast of the videos\n",
    "\"\"\"\n",
    "\n",
    "from tqdm import tqdm\n",
    "from skimage import exposure\n",
    "\n",
    "norm_percentile = 0.80\n",
    "\n",
    "video_data_norm = {\n",
    "    k: (\n",
    "        exposure.rescale_intensity(\n",
    "            v[0],\n",
    "            in_range=(np.min(v[0]), np.quantile(v[0], norm_percentile)),\n",
    "        ),\n",
    "        v[1],\n",
    "    )\n",
    "    for k, v in tqdm(video_data.items())\n",
    "}"
   ]
  },
  {
   "cell_type": "code",
   "execution_count": null,
   "id": "23de5905",
   "metadata": {},
   "outputs": [],
   "source": [
    "\"\"\"\n",
    "Get the actual video data\n",
    "\"\"\"\n",
    "\n",
    "import matplotlib.pyplot as plt\n",
    "\n",
    "video_names = list(video_data_norm.keys())\n",
    "\n",
    "before_frame_idx, after_frame_idx = 5, 6\n",
    "\n",
    "# Our video data is {name: (video, timestamps)}\n",
    "before_images = [video[before_frame_idx] for (video, _) in video_data_norm.values()]\n",
    "after_images = [video[after_frame_idx] for (video, _) in video_data_norm.values()]"
   ]
  },
  {
   "cell_type": "code",
   "execution_count": null,
   "id": "90af5aac",
   "metadata": {},
   "outputs": [],
   "source": [
    "\"\"\"\n",
    "Resize them - they're currently too big for the model\n",
    "\"\"\"\n",
    "\n",
    "from skimage.transform import resize\n",
    "\n",
    "target_size = (1024, 1024)\n",
    "\n",
    "def resize_images(image_list: list[np.ndarray], target_size: tuple[int, int]):\n",
    "    \"\"\"Resize images while preserving detail using anti-aliasing\"\"\"\n",
    "    return [\n",
    "        resize(img, target_size, anti_aliasing=True, preserve_range=True).astype(\n",
    "            img.dtype\n",
    "        )\n",
    "        for img in image_list\n",
    "    ]\n",
    "\n",
    "\n",
    "before_images = resize_images(before_images, target_size)\n",
    "after_images = resize_images(after_images, target_size)"
   ]
  },
  {
   "cell_type": "code",
   "execution_count": null,
   "id": "c85a2fef",
   "metadata": {},
   "outputs": [],
   "source": [
    "plot_kw = {\"cmap\": \"gray\", \"interpolation\": \"nearest\"}\n",
    "for before, after, video_name in zip(before_images, after_images, video_names):\n",
    "    fig, axes = plt.subplots(1, 2, figsize=(4, 2))\n",
    "    fig.subplots_adjust(wspace=0.1)\n",
    "\n",
    "    axes[0].imshow(before, **plot_kw)\n",
    "    axes[1].imshow(after, **plot_kw)\n",
    "\n",
    "    fig.suptitle(video_name)\n",
    "    for i in range(2):\n",
    "        axes[i].axis(\"off\")"
   ]
  },
  {
   "cell_type": "code",
   "execution_count": null,
   "id": "3a3f1852",
   "metadata": {},
   "outputs": [],
   "source": [
    "\"\"\"\n",
    "Get the test data in the right format\n",
    "\n",
    "This should be a torch tensor of shape (n_imgs, 1, height, width) for both the target and the source images\n",
    "\n",
    "\"\"\"\n",
    "\n",
    "import torch\n",
    "\n",
    "target_images = torch.stack(\n",
    "    [torch.tensor(x, dtype=torch.float32) for x in before_images]\n",
    ").unsqueeze(1)\n",
    "template_images = torch.stack(\n",
    "    [torch.tensor(x, dtype=torch.float32) for x in after_images]\n",
    ").unsqueeze(1)\n",
    "\n",
    "data_dict = {\"Template_image\": template_images, \"Target_image\": target_images}"
   ]
  },
  {
   "cell_type": "code",
   "execution_count": null,
   "id": "4a12a948",
   "metadata": {},
   "outputs": [],
   "source": [
    "\"\"\"\n",
    "Load the rotir model and weights\n",
    "\"\"\"\n",
    "\n",
    "from scale_cell_transport import files\n",
    "from rotir.model import ImageRegistration\n",
    "import torch\n",
    "\n",
    "model_file = torch.load(files.model_path())\n",
    "\n",
    "model = ImageRegistration(model_file[\"Parameter\"][\"model\"])\n",
    "model.load_state_dict(model_file[\"Model_state\"])"
   ]
  },
  {
   "cell_type": "code",
   "execution_count": null,
   "id": "0c775d4a",
   "metadata": {},
   "outputs": [],
   "source": [
    "\"\"\"\n",
    "Run the model on the test data\n",
    "\"\"\"\n",
    "\n",
    "from rotir.utils import affine_transform, matrix_calculation_function\n",
    "\n",
    "model.eval()\n",
    "with torch.no_grad():\n",
    "    output = model(data_dict)\n",
    "\n",
    "score_thr = []\n",
    "for op in output[\"score_map\"][:, :-1, :-1]:\n",
    "    t = torch.minimum(op.flatten().sort()[0][-3], torch.tensor(0.4))\n",
    "    score_thr.append(t)\n",
    "\n",
    "score_thr = torch.Tensor(score_thr).view(-1, 1, 1)\n",
    "\n",
    "affine_matirx, matches, num = matrix_calculation_function(\n",
    "    output,\n",
    "    \"Auto\",\n",
    "    score_thr,\n",
    "    not model_file[\"Parameter\"][\"model\"][\"Apply_scale\"],\n",
    "    True,\n",
    "    coordinate=True,\n",
    ")\n",
    "matches = matches.mul(32).add(16)\n",
    "\n",
    "out_total_image = affine_transform(data_dict[\"Template_image\"], affine_matirx)"
   ]
  },
  {
   "cell_type": "code",
   "execution_count": 112,
   "id": "2476b86d",
   "metadata": {},
   "outputs": [],
   "source": [
    "from rotir.plotting import plot_matches\n",
    "\n",
    "for i in range(len(data_dict[\"Template_image\"])):\n",
    "    plot_matches(\n",
    "        data_dict[\"Template_image\"][i],\n",
    "        data_dict[\"Target_image\"][i],\n",
    "        matches[i][: num[i]],\n",
    "        lines=True,\n",
    "    )"
   ]
  }
 ],
 "metadata": {
  "kernelspec": {
   "display_name": ".venv",
   "language": "python",
   "name": "python3"
  },
  "language_info": {
   "codemirror_mode": {
    "name": "ipython",
    "version": 3
   },
   "file_extension": ".py",
   "mimetype": "text/x-python",
   "name": "python",
   "nbconvert_exporter": "python",
   "pygments_lexer": "ipython3",
   "version": "3.9.21"
  }
 },
 "nbformat": 4,
 "nbformat_minor": 5
}
